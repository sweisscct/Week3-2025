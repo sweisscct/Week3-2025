{
 "cells": [
  {
   "cell_type": "markdown",
   "id": "67e95d03-ffab-4679-8e4e-37b7daca729b",
   "metadata": {},
   "source": [
    "## Function\n",
    "Some code that is given a named that can be reused.\n",
    "\n",
    "It may or may not take inputs.\n",
    "\n",
    "It may or may not give outputs."
   ]
  },
  {
   "cell_type": "code",
   "execution_count": 2,
   "id": "c389e8e6-329c-4ddd-958c-75201e2bac86",
   "metadata": {},
   "outputs": [],
   "source": [
    "def functionName():\n",
    "    print(\"This is a function.\")\n",
    "    print(\"This can do a lot of things\")\n",
    "    num = 10**60\n",
    "    print(num)\n",
    "    \n",
    "    "
   ]
  },
  {
   "cell_type": "code",
   "execution_count": 3,
   "id": "5c3e0f7b-c905-4c46-b297-8ac266737af3",
   "metadata": {},
   "outputs": [
    {
     "name": "stdout",
     "output_type": "stream",
     "text": [
      "This is a function.\n",
      "This can do a lot of things\n",
      "1000000000000000000000000000000000000000000000000000000000000\n"
     ]
    }
   ],
   "source": [
    "functionName()"
   ]
  },
  {
   "cell_type": "code",
   "execution_count": 4,
   "id": "9beba0d4-09fd-40dd-afdc-69c312945b61",
   "metadata": {},
   "outputs": [
    {
     "name": "stdout",
     "output_type": "stream",
     "text": [
      "This is a function.\n",
      "This can do a lot of things\n",
      "1000000000000000000000000000000000000000000000000000000000000\n",
      "This is a function.\n",
      "This can do a lot of things\n",
      "1000000000000000000000000000000000000000000000000000000000000\n",
      "This is a function.\n",
      "This can do a lot of things\n",
      "1000000000000000000000000000000000000000000000000000000000000\n"
     ]
    }
   ],
   "source": [
    "functionName()\n",
    "functionName()\n",
    "functionName()"
   ]
  },
  {
   "cell_type": "code",
   "execution_count": 5,
   "id": "ee7ef87a-e863-4251-b867-ab232e3ac2b5",
   "metadata": {},
   "outputs": [
    {
     "data": {
      "text/plain": [
       "<function __main__.functionName()>"
      ]
     },
     "execution_count": 5,
     "metadata": {},
     "output_type": "execute_result"
    }
   ],
   "source": [
    "functionName"
   ]
  },
  {
   "cell_type": "code",
   "execution_count": 9,
   "id": "b5fbc2a5-41b2-4a1e-bf11-bcc57465c3ea",
   "metadata": {},
   "outputs": [],
   "source": [
    "def trippleAdder(num1, num2, num3):\n",
    "    print(num1+2*num2+3*num3)"
   ]
  },
  {
   "cell_type": "code",
   "execution_count": 12,
   "id": "62c109d6-a941-4b30-b717-78e521fda659",
   "metadata": {},
   "outputs": [
    {
     "name": "stdout",
     "output_type": "stream",
     "text": [
      "39\n"
     ]
    }
   ],
   "source": [
    "# positional arguments\n",
    "# the inputs are associated to the parameter names based on their position\n",
    "trippleAdder(1,4, 10)\n",
    "# num1 = 1\n",
    "# num2 = 4\n",
    "# num3 = 10"
   ]
  },
  {
   "cell_type": "code",
   "execution_count": 13,
   "id": "315ccea8-ddf4-4eca-a42e-b47f64e5143e",
   "metadata": {},
   "outputs": [
    {
     "name": "stdout",
     "output_type": "stream",
     "text": [
      "21\n"
     ]
    }
   ],
   "source": [
    "# keyword arguments\n",
    "# the inputs are associated to the parameter names based on the names\n",
    "trippleAdder(num3=1, num2=4, num1=10)"
   ]
  },
  {
   "cell_type": "code",
   "execution_count": 14,
   "id": "cf5be9de-938c-4260-a497-cfbb07e2663b",
   "metadata": {},
   "outputs": [
    {
     "name": "stdout",
     "output_type": "stream",
     "text": [
      "33\n"
     ]
    }
   ],
   "source": [
    "# You can use both. But ALL positional arguments must occur before any keyword arguments\n",
    "trippleAdder(1, num3=4, num2=10)"
   ]
  },
  {
   "cell_type": "code",
   "execution_count": 15,
   "id": "bbd81f7f-eaf5-49a5-be80-1c34b2a67206",
   "metadata": {},
   "outputs": [
    {
     "ename": "TypeError",
     "evalue": "trippleAdder() missing 1 required positional argument: 'num3'",
     "output_type": "error",
     "traceback": [
      "\u001b[1;31m---------------------------------------------------------------------------\u001b[0m",
      "\u001b[1;31mTypeError\u001b[0m                                 Traceback (most recent call last)",
      "Cell \u001b[1;32mIn[15], line 1\u001b[0m\n\u001b[1;32m----> 1\u001b[0m trippleAdder(\u001b[38;5;241m1\u001b[39m, \u001b[38;5;241m4\u001b[39m)\n",
      "\u001b[1;31mTypeError\u001b[0m: trippleAdder() missing 1 required positional argument: 'num3'"
     ]
    }
   ],
   "source": [
    "trippleAdder(1, 4)"
   ]
  },
  {
   "cell_type": "code",
   "execution_count": 16,
   "id": "d4cc4ee5-8de8-4373-9f53-9bf9d91bdeab",
   "metadata": {},
   "outputs": [
    {
     "ename": "TypeError",
     "evalue": "trippleAdder() takes 3 positional arguments but 4 were given",
     "output_type": "error",
     "traceback": [
      "\u001b[1;31m---------------------------------------------------------------------------\u001b[0m",
      "\u001b[1;31mTypeError\u001b[0m                                 Traceback (most recent call last)",
      "Cell \u001b[1;32mIn[16], line 1\u001b[0m\n\u001b[1;32m----> 1\u001b[0m trippleAdder(\u001b[38;5;241m1\u001b[39m, \u001b[38;5;241m4\u001b[39m, \u001b[38;5;241m10\u001b[39m, \u001b[38;5;241m15\u001b[39m)\n",
      "\u001b[1;31mTypeError\u001b[0m: trippleAdder() takes 3 positional arguments but 4 were given"
     ]
    }
   ],
   "source": [
    "trippleAdder(1, 4, 10, 15)"
   ]
  },
  {
   "cell_type": "code",
   "execution_count": 19,
   "id": "33317850-3264-4cd8-b328-7ddcb1b0741f",
   "metadata": {},
   "outputs": [],
   "source": [
    "def trippleMultiply(num1, num2, num3=10):\n",
    "    print(num1 * (2+num2) * (3+num3))"
   ]
  },
  {
   "cell_type": "code",
   "execution_count": 20,
   "id": "8026dfa1-b896-47fb-88ea-a18eeb6af4be",
   "metadata": {},
   "outputs": [
    {
     "name": "stdout",
     "output_type": "stream",
     "text": [
      "24\n"
     ]
    }
   ],
   "source": [
    "trippleMultiply(1, 2, 3)"
   ]
  },
  {
   "cell_type": "code",
   "execution_count": 21,
   "id": "b803b732-ea79-41ed-9af6-4accf195fe6b",
   "metadata": {},
   "outputs": [
    {
     "name": "stdout",
     "output_type": "stream",
     "text": [
      "52\n"
     ]
    }
   ],
   "source": [
    "trippleMultiply(1, 2)"
   ]
  },
  {
   "cell_type": "code",
   "execution_count": 22,
   "id": "921d43fc-a885-4ed5-be3a-fef116fffbcd",
   "metadata": {},
   "outputs": [
    {
     "ename": "TypeError",
     "evalue": "trippleMultiply() missing 2 required positional arguments: 'num1' and 'num2'",
     "output_type": "error",
     "traceback": [
      "\u001b[1;31m---------------------------------------------------------------------------\u001b[0m",
      "\u001b[1;31mTypeError\u001b[0m                                 Traceback (most recent call last)",
      "Cell \u001b[1;32mIn[22], line 1\u001b[0m\n\u001b[1;32m----> 1\u001b[0m trippleMultiply()\n",
      "\u001b[1;31mTypeError\u001b[0m: trippleMultiply() missing 2 required positional arguments: 'num1' and 'num2'"
     ]
    }
   ],
   "source": [
    "trippleMultiply()"
   ]
  },
  {
   "cell_type": "code",
   "execution_count": 23,
   "id": "127f155e-2228-4e07-b6e9-ae5bab9bf8b1",
   "metadata": {},
   "outputs": [
    {
     "name": "stdout",
     "output_type": "stream",
     "text": [
      "52\n"
     ]
    }
   ],
   "source": [
    "result = trippleMultiply(1, 2)"
   ]
  },
  {
   "cell_type": "code",
   "execution_count": 24,
   "id": "f884b910-7117-4303-b6f5-1b6dca434d65",
   "metadata": {},
   "outputs": [
    {
     "name": "stdout",
     "output_type": "stream",
     "text": [
      "None\n"
     ]
    }
   ],
   "source": [
    "print(result)"
   ]
  },
  {
   "cell_type": "code",
   "execution_count": 29,
   "id": "ba023a12-076b-4695-8539-4e2cb3451f3b",
   "metadata": {},
   "outputs": [],
   "source": [
    "def repetition(word):\n",
    "    # return indicates that we will have an output\n",
    "    return word*3"
   ]
  },
  {
   "cell_type": "code",
   "execution_count": 26,
   "id": "a6577561-bd91-4f05-9f0b-7b73a0c81315",
   "metadata": {},
   "outputs": [
    {
     "data": {
      "text/plain": [
       "'PythonPythonPython'"
      ]
     },
     "execution_count": 26,
     "metadata": {},
     "output_type": "execute_result"
    }
   ],
   "source": [
    "repetition(\"Python\")"
   ]
  },
  {
   "cell_type": "code",
   "execution_count": 27,
   "id": "dbb9428f-9a82-4650-8fad-ef29888ea4a6",
   "metadata": {},
   "outputs": [],
   "source": [
    "reps = repetition(\"Python\")"
   ]
  },
  {
   "cell_type": "code",
   "execution_count": 28,
   "id": "affe0921-86f6-42a1-bf79-935a0c6ca210",
   "metadata": {},
   "outputs": [
    {
     "data": {
      "text/plain": [
       "'PythonPythonPython'"
      ]
     },
     "execution_count": 28,
     "metadata": {},
     "output_type": "execute_result"
    }
   ],
   "source": [
    "reps"
   ]
  },
  {
   "cell_type": "code",
   "execution_count": 32,
   "id": "91dc30ec-0996-46e8-8541-efb44ad945f6",
   "metadata": {},
   "outputs": [],
   "source": [
    "def repetition(word):\n",
    "    # return indicates that we will have an output\n",
    "    return word*3\n",
    "    # this never gets run\n",
    "    10/0"
   ]
  },
  {
   "cell_type": "code",
   "execution_count": 33,
   "id": "057fe55d-fe45-46ad-b8f5-ed1a5a7ab39b",
   "metadata": {},
   "outputs": [
    {
     "data": {
      "text/plain": [
       "'PythonPythonPython'"
      ]
     },
     "execution_count": 33,
     "metadata": {},
     "output_type": "execute_result"
    }
   ],
   "source": [
    "repetition(\"Python\")"
   ]
  },
  {
   "cell_type": "code",
   "execution_count": 34,
   "id": "345155a8-b7df-4954-89ef-ae3a8d85f699",
   "metadata": {},
   "outputs": [],
   "source": [
    "def repetition2(hsfdalksjdafhsdalkjfhasdlkjfh):\n",
    "    # return indicates that we will have an output\n",
    "    return hsfdalksjdafhsdalkjfhasdlkjfh*3\n",
    "    # this never gets run\n",
    "    10/0"
   ]
  },
  {
   "cell_type": "code",
   "execution_count": 35,
   "id": "338d9634-fb22-46f1-883a-b46eec1f8084",
   "metadata": {},
   "outputs": [
    {
     "data": {
      "text/plain": [
       "'PythonPythonPython'"
      ]
     },
     "execution_count": 35,
     "metadata": {},
     "output_type": "execute_result"
    }
   ],
   "source": [
    "repetition2(\"Python\")"
   ]
  },
  {
   "cell_type": "code",
   "execution_count": 36,
   "id": "ef2c7dde-0cda-4086-b76e-cd72c54b87b4",
   "metadata": {},
   "outputs": [
    {
     "ename": "NameError",
     "evalue": "name 'num3' is not defined",
     "output_type": "error",
     "traceback": [
      "\u001b[1;31m---------------------------------------------------------------------------\u001b[0m",
      "\u001b[1;31mNameError\u001b[0m                                 Traceback (most recent call last)",
      "Cell \u001b[1;32mIn[36], line 1\u001b[0m\n\u001b[1;32m----> 1\u001b[0m num3\n",
      "\u001b[1;31mNameError\u001b[0m: name 'num3' is not defined"
     ]
    }
   ],
   "source": [
    "num3"
   ]
  },
  {
   "cell_type": "code",
   "execution_count": 44,
   "id": "095daf0a-50e0-4bca-b32a-5925f2b0e539",
   "metadata": {},
   "outputs": [],
   "source": [
    "def coolNumber():\n",
    "    # number has a 'local' scope - it is only defined inside this function\n",
    "    number = 10\n",
    "    return number"
   ]
  },
  {
   "cell_type": "code",
   "execution_count": 41,
   "id": "57bec5ac-0e74-42ac-b69d-e55fe8d5201c",
   "metadata": {},
   "outputs": [
    {
     "data": {
      "text/plain": [
       "10"
      ]
     },
     "execution_count": 41,
     "metadata": {},
     "output_type": "execute_result"
    }
   ],
   "source": [
    "coolNumber()"
   ]
  },
  {
   "cell_type": "code",
   "execution_count": 42,
   "id": "2d1f613c-83b7-4df3-b28d-72a2bffdbb6f",
   "metadata": {},
   "outputs": [
    {
     "ename": "NameError",
     "evalue": "name 'number' is not defined",
     "output_type": "error",
     "traceback": [
      "\u001b[1;31m---------------------------------------------------------------------------\u001b[0m",
      "\u001b[1;31mNameError\u001b[0m                                 Traceback (most recent call last)",
      "Cell \u001b[1;32mIn[42], line 1\u001b[0m\n\u001b[1;32m----> 1\u001b[0m number\n",
      "\u001b[1;31mNameError\u001b[0m: name 'number' is not defined"
     ]
    }
   ],
   "source": [
    "number"
   ]
  },
  {
   "cell_type": "code",
   "execution_count": 48,
   "id": "9ea8a550-2cbd-47df-a1c3-2c307f6e83c1",
   "metadata": {},
   "outputs": [],
   "source": [
    "def trippleMultiply2(num1, num2, num3=False):\n",
    "    print(num1 * (2+num2) * (3+num3))"
   ]
  },
  {
   "cell_type": "code",
   "execution_count": 49,
   "id": "80b19ffd-28cf-47d9-820a-8ceecdbbeb19",
   "metadata": {},
   "outputs": [
    {
     "name": "stdout",
     "output_type": "stream",
     "text": [
      "12\n"
     ]
    }
   ],
   "source": [
    "trippleMultiply2(1, 2)"
   ]
  },
  {
   "cell_type": "code",
   "execution_count": 50,
   "id": "3b80de0c-2ef4-4d6c-93ef-08798002c625",
   "metadata": {},
   "outputs": [
    {
     "data": {
      "text/plain": [
       "3"
      ]
     },
     "execution_count": 50,
     "metadata": {},
     "output_type": "execute_result"
    }
   ],
   "source": [
    "False+3"
   ]
  },
  {
   "cell_type": "code",
   "execution_count": 51,
   "id": "a9e39c84-dddb-4dad-800d-7daa3e7eea71",
   "metadata": {},
   "outputs": [
    {
     "data": {
      "text/plain": [
       "4"
      ]
     },
     "execution_count": 51,
     "metadata": {},
     "output_type": "execute_result"
    }
   ],
   "source": [
    "True + 3"
   ]
  },
  {
   "cell_type": "code",
   "execution_count": 53,
   "id": "74be25d1-6f97-45ac-93bd-35157ff962cf",
   "metadata": {},
   "outputs": [
    {
     "name": "stdout",
     "output_type": "stream",
     "text": [
      "Hello*****World!!!Hello*****World!!!Hello*****World!!!"
     ]
    }
   ],
   "source": [
    "print(\"Hello\", \"World\", sep=\"*****\", end=\"!!!\")\n",
    "print(\"Hello\", \"World\", sep=\"*****\", end=\"!!!\")\n",
    "print(\"Hello\", \"World\", sep=\"*****\", end=\"!!!\")"
   ]
  },
  {
   "cell_type": "code",
   "execution_count": 56,
   "id": "032f4fcd-8ba1-443b-890d-6b2521d89159",
   "metadata": {},
   "outputs": [],
   "source": [
    "def trippleMultiply2(num1, num2, num3=False):\n",
    "    '''This is a docstring!\n",
    "    \n",
    "    THis is on a different line\n",
    "    \n",
    "    '''\n",
    "    print(num1 * (2+num2) * (3+num3))"
   ]
  },
  {
   "cell_type": "code",
   "execution_count": 55,
   "id": "d778c1e6-ec4a-4f4d-8c46-91efd6640840",
   "metadata": {},
   "outputs": [],
   "source": [
    "trippleMultiply2()"
   ]
  },
  {
   "cell_type": "code",
   "execution_count": 57,
   "id": "e92fc761-8793-4fff-b054-9fc92c104397",
   "metadata": {},
   "outputs": [
    {
     "data": {
      "text/plain": [
       "3"
      ]
     },
     "execution_count": 57,
     "metadata": {},
     "output_type": "execute_result"
    }
   ],
   "source": [
    "3+False"
   ]
  },
  {
   "cell_type": "code",
   "execution_count": 60,
   "id": "561d7dad-359c-4149-bbf7-706b3bd0840d",
   "metadata": {},
   "outputs": [],
   "source": [
    "if 0:\n",
    "    print(\"True\")"
   ]
  },
  {
   "cell_type": "code",
   "execution_count": 61,
   "id": "a26fef22-040e-4f36-989f-74bceea2ae44",
   "metadata": {},
   "outputs": [],
   "source": [
    "def multipleOutputs(num):\n",
    "    return num, num**2, num**num"
   ]
  },
  {
   "cell_type": "code",
   "execution_count": 62,
   "id": "2e7a6b71-7b00-4a92-8bf7-0b7cf80f3d63",
   "metadata": {},
   "outputs": [
    {
     "data": {
      "text/plain": [
       "(5, 25, 3125)"
      ]
     },
     "execution_count": 62,
     "metadata": {},
     "output_type": "execute_result"
    }
   ],
   "source": [
    "multipleOutputs(5)"
   ]
  },
  {
   "cell_type": "code",
   "execution_count": 63,
   "id": "e20a33cc-d0a5-41b6-a8b5-54cad2e7cd7f",
   "metadata": {},
   "outputs": [
    {
     "data": {
      "text/plain": [
       "tuple"
      ]
     },
     "execution_count": 63,
     "metadata": {},
     "output_type": "execute_result"
    }
   ],
   "source": [
    "type(multipleOutputs(5))"
   ]
  },
  {
   "cell_type": "code",
   "execution_count": 64,
   "id": "c8f54d90-1b0f-4b43-b0fb-00c7887b4921",
   "metadata": {},
   "outputs": [],
   "source": [
    "# destructure - separate out the values\n",
    "num1, num2, num3 = multipleOutputs(5)"
   ]
  },
  {
   "cell_type": "code",
   "execution_count": 65,
   "id": "b394238e-3cbf-4664-a1dd-79b30957d253",
   "metadata": {},
   "outputs": [
    {
     "data": {
      "text/plain": [
       "5"
      ]
     },
     "execution_count": 65,
     "metadata": {},
     "output_type": "execute_result"
    }
   ],
   "source": [
    "num1"
   ]
  },
  {
   "cell_type": "code",
   "execution_count": 66,
   "id": "2d7cc537-8e87-4ca5-8bf9-d527ab6e3372",
   "metadata": {},
   "outputs": [
    {
     "data": {
      "text/plain": [
       "25"
      ]
     },
     "execution_count": 66,
     "metadata": {},
     "output_type": "execute_result"
    }
   ],
   "source": [
    "num2"
   ]
  },
  {
   "cell_type": "code",
   "execution_count": 67,
   "id": "7dfb376e-a99e-4322-a166-9d494d2b7a7f",
   "metadata": {},
   "outputs": [
    {
     "data": {
      "text/plain": [
       "3125"
      ]
     },
     "execution_count": 67,
     "metadata": {},
     "output_type": "execute_result"
    }
   ],
   "source": [
    "num3 "
   ]
  },
  {
   "cell_type": "markdown",
   "id": "83c1be90-162d-4c51-b165-223f50286be3",
   "metadata": {},
   "source": [
    "## Homework:\n",
    "- ch3 exercise 2\n",
    "- all of ch4 exercises"
   ]
  },
  {
   "cell_type": "code",
   "execution_count": null,
   "id": "e6b2602f-fcc6-4db8-b40b-8eec597f9b53",
   "metadata": {},
   "outputs": [],
   "source": []
  }
 ],
 "metadata": {
  "kernelspec": {
   "display_name": "Python 3 (ipykernel)",
   "language": "python",
   "name": "python3"
  },
  "language_info": {
   "codemirror_mode": {
    "name": "ipython",
    "version": 3
   },
   "file_extension": ".py",
   "mimetype": "text/x-python",
   "name": "python",
   "nbconvert_exporter": "python",
   "pygments_lexer": "ipython3",
   "version": "3.12.5"
  }
 },
 "nbformat": 4,
 "nbformat_minor": 5
}
